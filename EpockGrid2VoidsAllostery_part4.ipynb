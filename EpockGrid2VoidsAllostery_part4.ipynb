{
 "cells": [
  {
   "cell_type": "code",
   "execution_count": null,
   "id": "70c8a048-aeda-4464-8200-3de7a47db028",
   "metadata": {},
   "outputs": [],
   "source": [
    "import numpy as np\n",
    "import pandas as pd\n",
    "from copy import copy, deepcopy\n",
    "from sklearn.metrics import jaccard_score\n",
    "import time\n",
    "import matplotlib.pyplot as plt\n",
    "from scipy.spatial import distance as scidist\n",
    "import MDAnalysis as mda\n",
    "from EpockGrid2VoidsAllostery_util import *\n",
    "from scipy.ndimage import gaussian_filter1d\n",
    "import argparse\n",
    "import fnmatch\n",
    "import os\n",
    "\n",
    "'''\n",
    "EpockGrid2VoidsAllostery. Step 4.\n",
    "Author: Yulian Gavrilov\n",
    "yulian.gavrilov@bpc.lu.se\n",
    "yulian.gavrilov@gmail.com\n",
    "\n",
    "Python code for the analysis of allostric communiction in proteins based on\n",
    "the dynamics of the internal protein void_clusters.\n",
    "\n",
    "See readme.txt for the further details.\n",
    "'''"
   ]
  },
  {
   "cell_type": "code",
   "execution_count": null,
   "id": "d3d9537b-5f30-44c5-9dfd-568527eb8abe",
   "metadata": {},
   "outputs": [],
   "source": [
    "system=\"cort_wt\"\n",
    "#u1 = mda.Universe(f'./md3us_{system}_fitCav_dt100_prot_cut_nolig_fr0.pdb', f'./md3us_{system}_fitCav_dt100_prot_cut_nolig.xtc')\n",
    "#u1 = mda.Universe('./md3us_cort_wt_fitCav_dt100000_prot_cut_fr0.pdb', './md3us_cort_wt_fitCav_dt10000_prot_cut_nolig.xtc')\n",
    "#nframes=len(u1.trajectory)\n",
    "nframes=28498\n",
    "\n"
   ]
  },
  {
   "cell_type": "code",
   "execution_count": null,
   "id": "e8f4fe85-1437-4003-814e-84fde71feaf4",
   "metadata": {},
   "outputs": [],
   "source": [
    "# load here:\n",
    "# atom_clusters_frames (after reindexing)\n",
    "with open(f'{system}_atom_clusters_frames{nframes}_reindex.npy', 'rb') as f:\n",
    "    atom_clusters_frames = np.load(f, allow_pickle=True)\n",
    "# atom_clusters_frames_with_res\n",
    "with open(f'{system}_atom_clusters_frames{nframes}_reindex_resindex.npy', 'rb') as f:\n",
    "    atom_clusters_frames_with_res = np.load(f, allow_pickle=True)\n",
    "# NMS\n",
    "with open(f'{system}_Nmatrix_frames{nframes}.npy', 'rb') as f:\n",
    "    NMS = np.load(f, allow_pickle=True)\n",
    "# sort_NMS_dict\n",
    "with open(f'{system}_Nmatrix_dict_frames{nframes}.npy', 'rb') as f:\n",
    "    sort_NMS_dict = np.load(f, allow_pickle=True)#.item()\n",
    "    \n",
    "with open(f'{system}_all_clusters_storage_frames{nframes}.npy', 'rb') as f:\n",
    "    cluster_storage_out = np.load(f, allow_pickle=True).item()   "
   ]
  },
  {
   "cell_type": "code",
   "execution_count": null,
   "id": "728dcbfa-ff04-42bd-b468-4fa71ed8e27a",
   "metadata": {},
   "outputs": [],
   "source": [
    "print(\"show all clusters (in the last frame) after reindexing\")\n",
    "frame_ndx=0#nframes-1\n",
    "for i in range(0, len(atom_clusters_frames[frame_ndx].clusters)):\n",
    "    print (atom_clusters_frames[frame_ndx].clusters[i])\n",
    "print(\"\\n\\n\")\n",
    "####"
   ]
  },
  {
   "cell_type": "code",
   "execution_count": null,
   "id": "00548c82-412d-4a0b-8b06-4d497be6379b",
   "metadata": {},
   "outputs": [],
   "source": [
    "# print(\"\\nShow all accumulated clusters (in the last frame) after reindexing\")\n",
    "# for i in range(0,len(cluster_storage_out.clusters)):\n",
    "#     print (cluster_storage_out.clusters[i].clusterID, end = \" \")\n",
    "#     #print (cluster_storage_out.clusters[i], end = \" \")\n",
    "# print(\"\\n\",i)"
   ]
  },
  {
   "cell_type": "code",
   "execution_count": null,
   "id": "8d2e55a8-2557-4370-8de4-f342726e92e5",
   "metadata": {},
   "outputs": [],
   "source": [
    "#resid = [*range(250, 264, 1)] # all TIF2 residues \n",
    "#resid = [*range(0, 264, 1)] # all GR-TIF2 residues\n",
    "res_in_frame_clusters = get_residues_in_clusters_count(atom_clusters_frames_with_res, nframes, resid = [5,6])\n",
    "\n",
    "print (res_in_frame_clusters)"
   ]
  },
  {
   "cell_type": "code",
   "execution_count": null,
   "id": "c6e2dfae-2c60-495e-aa54-5bf64d05ab2b",
   "metadata": {},
   "outputs": [],
   "source": [
    "res_in_frames = get_residues_in_frames_count(atom_clusters_frames_with_res, nframes, resid = [5,6]) \n",
    "print (res_in_frames)\n"
   ]
  },
  {
   "cell_type": "code",
   "execution_count": null,
   "id": "321c871c-6406-4890-b5d6-58590a0e3d3b",
   "metadata": {},
   "outputs": [],
   "source": [
    "#print (sum(res_in_frame_clusters_keys.values()))\n",
    "#print (res_in_frame_clusters_keys.values())\n",
    "#dict(sorted(res_in_frame_clusters_keys.items(), key=lambda item: item[1], reverse=True))"
   ]
  },
  {
   "cell_type": "code",
   "execution_count": null,
   "id": "62150220-46c2-4981-8b7c-c7bd34505397",
   "metadata": {},
   "outputs": [],
   "source": [
    "split_merge_count = get_max_split_merge(sort_NMS_dict, split_merge_cutoff = 500)\n",
    "\n",
    "print(\"N matrix elements with max number of splits/merges\")\n",
    "\n",
    "for i in split_merge_count:\n",
    "    print (i, split_merge_count[i])\n",
    "print(\"\")\n",
    "\n",
    "####\n",
    "\n",
    "all_persistency_clIDs, all_persistency_clIDs_percent, cluster_persistency = get_cluster_persistency(atom_clusters_frames, \n",
    "                                                                                                          cluster_storage_out, \n",
    "                                                                                                          nframes, persistency_cutoff_percent=5)\n",
    "\n",
    "print (\"The cluster persistency (number of frames you can find the cluster in)\")                                                                                                       \n",
    "for i,j in zip(cluster_persistency,all_persistency_clIDs_percent):\n",
    "    print (i[0],\":\",i[1],\"or\",all_persistency_clIDs_percent[j],\"%\")\n"
   ]
  },
  {
   "cell_type": "code",
   "execution_count": null,
   "id": "e551f692-079d-46a5-bd13-56b9a27ff7d0",
   "metadata": {},
   "outputs": [],
   "source": [
    "print_cluster_volume_and_contacts(atom_clusters_frames, sort_NMS_dict, \"0_5\", volume_cutoff = 2, numb_contacts_cutoff = 100)\n"
   ]
  },
  {
   "cell_type": "code",
   "execution_count": null,
   "id": "66181cce-0000-4978-b21c-1f2792421f18",
   "metadata": {},
   "outputs": [],
   "source": [
    "res_in_cluster_dict, res_in_cluster_percent_dict, res_in_cluster_abs_percent_dict = \\\n",
    "get_res_persistency_in_cluster(atom_clusters_frames_with_res, \n",
    "                               all_persistency_clIDs, \n",
    "                               nframes, aclusterID = '0_9', \n",
    "                               first_res = 1, last_res = 265)\n",
    "\n",
    "print (\"keys - residue index, value - persistence (abs or %)\")\n",
    "#print (res_in_cluster_dict)\n",
    "print (res_in_cluster_percent_dict)\n",
    "#print (res_in_cluster_abs_percent_dict)"
   ]
  },
  {
   "cell_type": "code",
   "execution_count": null,
   "id": "9bf568ba-3f05-4e1c-ab69-0d6218cf13d8",
   "metadata": {},
   "outputs": [],
   "source": [
    "numb_of_selec_contacts, selected_contacts_dict = get_cluster_group_contacts(atom_clusters_frames,\n",
    "                                                                            sort_NMS_dict,all_persistency_clIDs_percent)\n",
    "\n",
    "print (\"Number of frames with split/merge events (contacts) between the clusters\")\n",
    "print (\"(filtered to show only the persistant clusters based on \\\"persistency_cutoff_percent\\\" value)\")\n",
    "print(\"Total number of frames: \", nframes)\n",
    "min_contacts=500\n",
    "for i in numb_of_selec_contacts:\n",
    "    if float(i[1]) > min_contacts:\n",
    "        print (i[0], i[1])\n"
   ]
  },
  {
   "cell_type": "code",
   "execution_count": null,
   "id": "43abb99e-734a-4fca-9765-d66caf25ccf6",
   "metadata": {},
   "outputs": [],
   "source": [
    "make_pymol_script (all_persistency_clIDs_percent,\n",
    "                     atom_clusters_frames_with_res,\n",
    "                     system,\n",
    "                     nframes,\n",
    "                     selected_contacts_dict,\n",
    "                     persistency_cutoff_percent = 5,\n",
    "                     sphere_radius_scaler = 3,\n",
    "                     radius_correction = 1500)"
   ]
  },
  {
   "cell_type": "code",
   "execution_count": null,
   "id": "7b2459ac-5b2e-4d8d-a72f-a8667200b8fa",
   "metadata": {},
   "outputs": [],
   "source": [
    "# show all accumulated clusters (in the last frame)\n",
    "# after reindexing\n",
    "# after substituting atom indices with residues' indices\n",
    "# print(\"show all accumulated clusters (in the last frame) after reindexing; after substituting atom indices with residues' indices\")\n",
    "frame_ndx= 0  #nframes-1\n",
    "for i in range(0, len(atom_clusters_frames_with_res[frame_ndx].clusters)):\n",
    "    print (atom_clusters_frames_with_res[frame_ndx].clusters[i])\n",
    "print(\"\\n\\n\")\n",
    "# ####"
   ]
  },
  {
   "cell_type": "code",
   "execution_count": null,
   "id": "89e8b676-e16c-4284-a3a8-450b6240c777",
   "metadata": {},
   "outputs": [],
   "source": [
    "# # print all clusters' IDs\n",
    "#\n",
    "# for i in range(0,len(cluster_storage_out.clusters)):\n",
    "#     print (cluster_storage_out.clusters[i].clusterID, end = \" \")\n",
    "# print(\"\\n\",i)"
   ]
  },
  {
   "cell_type": "code",
   "execution_count": null,
   "id": "f11c64fd-e272-4ab4-82b0-63cd89f1cd0f",
   "metadata": {},
   "outputs": [],
   "source": [
    "# GET CLUSTERS' VOLUME\n",
    "\n",
    "volume_in_frames_1 = get_cluster_volume(\"0_5\",atom_clusters_frames)\n",
    "volume_in_frames_2 = get_cluster_volume(\"3_2\",atom_clusters_frames)\n",
    "volume_in_frames_3 = get_cluster_volume(\"0_0\",atom_clusters_frames)\n",
    "volume_in_frames_4 = get_cluster_volume(\"0_9\",atom_clusters_frames)\n",
    "volume_in_frames_5 = get_cluster_volume(\"24_1\",atom_clusters_frames)\n"
   ]
  },
  {
   "cell_type": "code",
   "execution_count": null,
   "id": "f56d13b1-151f-4631-95bd-4f94843a6066",
   "metadata": {},
   "outputs": [],
   "source": [
    "print(np.mean(volume_in_frames_1),\"±\",np.std(volume_in_frames_1))"
   ]
  },
  {
   "cell_type": "code",
   "execution_count": null,
   "id": "4b7c2644-63b4-4306-89f9-f0b8c3a937bf",
   "metadata": {},
   "outputs": [],
   "source": [
    "# PLOT CLUSTERS' VOLUME\n",
    "\n",
    "#https://docs.scipy.org/doc/scipy/reference/generated/scipy.ndimage.gaussian_filter1d.html\n",
    "\n",
    "\n",
    "sigma = 100\n",
    "fig, ax = plt.subplots(figsize=(6,4),dpi=100)\n",
    "\n",
    "colors=['forestgreen','lime','blue','cornflowerblue']\n",
    "\n",
    "ax.plot(gaussian_filter1d(volume_in_frames_1,sigma),color='g',linestyle='-')\n",
    "ax.plot(gaussian_filter1d(volume_in_frames_2,sigma),color='b',linestyle='-')\n",
    "ax.plot(gaussian_filter1d(volume_in_frames_3,sigma),color='y',linestyle='-')\n",
    "ax.plot(gaussian_filter1d(volume_in_frames_4,sigma),color='m',linestyle='-')\n",
    "ax.plot(gaussian_filter1d(volume_in_frames_5,sigma),color='cyan',linestyle='-')\n",
    "\n",
    "plt.legend(['cluster 0_5','cluster 3_2','cluster 0_0','cluster 0_9','cluster 24_1'],\n",
    "           loc='upper right',prop={\"size\":10},ncol=3, bbox_to_anchor=(1, -0.15))\n",
    "#plt.legend(['cluster 0_0','cluster 0_4','cluster 0_6','cluster 0_10','cluster 4_4'],loc='upper right',prop={\"size\":10})\n",
    "#plt.legend(['cluster 0_1'],loc='upper right',prop={\"size\":10})\n",
    "plt.ylabel('Volume (number of probe spheres)',fontsize=10)\n",
    "plt.xlabel('frame',fontsize=10);\n",
    "\n",
    "plt.title( f'{system}. Change in volume of the internal voids clusters', fontsize = 10);\n",
    "\n",
    "#plt.ylim([0, 100]);\n",
    "\n",
    "#plt.xticks(bins_arr[::1]-10/2,bins_arr[::1],fontsize=7, rotation=45)\n",
    "#plt.yticks(range(0,21,5),fontsize=15);\n",
    "\n",
    "#plt.savefig(f'void_clusters_{system}_dt100_{nframes}fr_clusters.pdf', bbox_inches = \"tight\");\n",
    "#plt.savefig(f'void_clusters_{system}_dt100_{nframes}fr_clusters_zoom.pdf', bbox_inches = \"tight\");\n"
   ]
  },
  {
   "cell_type": "code",
   "execution_count": null,
   "id": "1a5d423c-ecc9-4cfa-a8a3-08e7f89994c1",
   "metadata": {},
   "outputs": [],
   "source": []
  }
 ],
 "metadata": {
  "kernelspec": {
   "display_name": "Python 3",
   "language": "python",
   "name": "python3"
  },
  "language_info": {
   "codemirror_mode": {
    "name": "ipython",
    "version": 3
   },
   "file_extension": ".py",
   "mimetype": "text/x-python",
   "name": "python",
   "nbconvert_exporter": "python",
   "pygments_lexer": "ipython3",
   "version": "3.8.8"
  }
 },
 "nbformat": 4,
 "nbformat_minor": 5
}
